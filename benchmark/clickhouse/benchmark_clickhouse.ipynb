{
 "cells": [
  {
   "cell_type": "code",
   "execution_count": 91,
   "id": "5b427aa9",
   "metadata": {},
   "outputs": [
    {
     "name": "stdout",
     "output_type": "stream",
     "text": [
      "Creating network \"clickhouse_default\" with the default driver\n",
      "Creating clickhouse ... \n",
      "\u001b[1Bting clickhouse ... \u001b[32mdone\u001b[0m"
     ]
    }
   ],
   "source": [
    "!docker-compose up -d"
   ]
  },
  {
   "cell_type": "code",
   "execution_count": 90,
   "id": "d83edf8d",
   "metadata": {},
   "outputs": [
    {
     "name": "stdout",
     "output_type": "stream",
     "text": [
      "Stopping clickhouse ... \n",
      "\u001b[1Bping clickhouse ... \u001b[32mdone\u001b[0mRemoving clickhouse ... \n",
      "\u001b[1BRemoving network clickhouse_default\n"
     ]
    }
   ],
   "source": [
    "!docker-compose down"
   ]
  },
  {
   "cell_type": "code",
   "execution_count": 92,
   "id": "2e973d2f",
   "metadata": {},
   "outputs": [],
   "source": [
    "from clickhouse_driver import Client\n",
    "\n",
    "client = Client(host=\"localhost\") "
   ]
  },
  {
   "cell_type": "code",
   "execution_count": 93,
   "id": "946cb564",
   "metadata": {},
   "outputs": [
    {
     "data": {
      "text/plain": [
       "[]"
      ]
     },
     "execution_count": 93,
     "metadata": {},
     "output_type": "execute_result"
    }
   ],
   "source": [
    "client.execute(\"CREATE DATABASE IF NOT EXISTS benchmark\")"
   ]
  },
  {
   "cell_type": "code",
   "execution_count": 94,
   "id": "bb921199",
   "metadata": {},
   "outputs": [
    {
     "data": {
      "text/plain": [
       "[]"
      ]
     },
     "execution_count": 94,
     "metadata": {},
     "output_type": "execute_result"
    }
   ],
   "source": [
    "client.execute(\"DROP TABLE IF EXISTS benchmark.film_timestamp\")"
   ]
  },
  {
   "cell_type": "code",
   "execution_count": 95,
   "id": "7d55e280",
   "metadata": {},
   "outputs": [
    {
     "data": {
      "text/plain": [
       "[]"
      ]
     },
     "execution_count": 95,
     "metadata": {},
     "output_type": "execute_result"
    }
   ],
   "source": [
    "create_sql = \"\"\"\n",
    "CREATE TABLE IF NOT EXISTS benchmark.film_timestamp (\n",
    "      user_id UUID,\n",
    "      film_id UUID,\n",
    "      film_timestamp DateTime('Europe/Moscow'),\n",
    "      event_time DateTime('Europe/Moscow'))\n",
    "      Engine=MergeTree() PARTITION BY toYYYYMMDD(event_time) order by user_id;\n",
    "\"\"\"\n",
    "client.execute(create_sql)"
   ]
  },
  {
   "cell_type": "code",
   "execution_count": 96,
   "id": "a12f24c1",
   "metadata": {},
   "outputs": [
    {
     "data": {
      "text/plain": [
       "[(0,)]"
      ]
     },
     "execution_count": 96,
     "metadata": {},
     "output_type": "execute_result"
    }
   ],
   "source": [
    "client.execute(\"select count(1) from benchmark.film_timestamp\")"
   ]
  },
  {
   "cell_type": "code",
   "execution_count": 97,
   "id": "d9b856c4",
   "metadata": {},
   "outputs": [],
   "source": [
    "import uuid\n",
    "from faker import Faker\n",
    "\n",
    "\n",
    "def generate_random_data(num_rows_per_chunk: int, iteration: int):\n",
    "    chunk = []\n",
    "    fake = Faker()\n",
    "\n",
    "    event_time = fake.date_time_between()\n",
    "    for i in range(iteration*num_rows_per_chunk):\n",
    "        film_time = fake.date_time_between()\n",
    "        \n",
    "        chunk.append((str(uuid.uuid4()), str(uuid.uuid4()), film_time, event_time))\n",
    "\n",
    "        if len(chunk) == num_rows_per_chunk:\n",
    "            yield chunk\n",
    "            chunk = []\n",
    "            event_time = fake.date_time_between()\n",
    "\n",
    "    yield chunk"
   ]
  },
  {
   "cell_type": "code",
   "execution_count": 98,
   "id": "a15babb6",
   "metadata": {},
   "outputs": [],
   "source": [
    "import time\n",
    "import statistics\n",
    "\n",
    "class profile_code():\n",
    "    def __init__(self):\n",
    "        self.start = time.time()\n",
    "        self.all_durations = []\n",
    "        \n",
    "    def setup_start_time(self):\n",
    "        self.start = time.time()\n",
    "\n",
    "    def checkpoint(self):\n",
    "        end_time = time.time()\n",
    "        self.all_durations.append(end_time - self.start)\n",
    "        self.start = end_time\n",
    "\n",
    "    def __enter__(self):\n",
    "        return self\n",
    "\n",
    "    def __exit__(self, type, value, traceback):\n",
    "        print(f\"Median - {statistics.median(self.all_durations)}\")\n",
    "        avg = sum(self.all_durations) / len(self.all_durations)\n",
    "        print(f\"Average - {avg}\")\n",
    "        print(f\"Summary - {sum(self.all_durations)}\")"
   ]
  },
  {
   "cell_type": "code",
   "execution_count": 99,
   "id": "3cb3823d",
   "metadata": {},
   "outputs": [
    {
     "name": "stdout",
     "output_type": "stream",
     "text": [
      "Median - 0.01758742332458496\n",
      "Average - 0.017949770594286596\n",
      "Summary - 35.91749095916748\n"
     ]
    }
   ],
   "source": [
    "# Testing INSERT statments chunk with 500 records per time\n",
    "with profile_code() as profiler:\n",
    "    for chunk in generate_random_data(500, 2000):\n",
    "        profiler.setup_start_time()\n",
    "        client.execute(\n",
    "                    f\"INSERT INTO benchmark.film_timestamp  (user_id, film_id, film_timestamp, event_time) VALUES\",\n",
    "                    chunk,\n",
    "                )\n",
    "        profiler.checkpoint()"
   ]
  },
  {
   "cell_type": "code",
   "execution_count": 100,
   "id": "d4e7b26e",
   "metadata": {},
   "outputs": [
    {
     "name": "stdout",
     "output_type": "stream",
     "text": [
      "Median - 0.003395557403564453\n",
      "Average - 0.003304220449322763\n",
      "Summary - 6.611745119094849\n"
     ]
    }
   ],
   "source": [
    "# Testing INSERT statments online with 1 insert per time\n",
    "with profile_code() as profiler:\n",
    "    for chunk in generate_random_data(1, 2000):\n",
    "        profiler.setup_start_time()\n",
    "        client.execute(\n",
    "                    f\"INSERT INTO benchmark.film_timestamp  (user_id, film_id, film_timestamp, event_time) VALUES\",\n",
    "                    chunk,\n",
    "                )\n",
    "        profiler.checkpoint()"
   ]
  },
  {
   "cell_type": "code",
   "execution_count": 101,
   "id": "8a27635b",
   "metadata": {},
   "outputs": [],
   "source": [
    "num_uuids = 100\n",
    "uuids = [str(u[0]) for u in client.execute(f\"SELECT user_id FROM benchmark.film_timestamp LIMIT {num_uuids}\")]"
   ]
  },
  {
   "cell_type": "code",
   "execution_count": 102,
   "id": "bf8e608c",
   "metadata": {},
   "outputs": [
    {
     "name": "stdout",
     "output_type": "stream",
     "text": [
      "Median - 0.03614664077758789\n",
      "Average - 0.039163358211517334\n",
      "Summary - 3.9163358211517334\n"
     ]
    }
   ],
   "source": [
    "# Testing SELECT statments\n",
    "with profile_code() as profiler:\n",
    "    for u in uuids:\n",
    "        profiler.setup_start_time()\n",
    "        client.execute(f\"SELECT * FROM benchmark.film_timestamp where user_id='{u}'\")\n",
    "        profiler.checkpoint()"
   ]
  },
  {
   "cell_type": "code",
   "execution_count": null,
   "id": "33b9840b",
   "metadata": {},
   "outputs": [],
   "source": []
  }
 ],
 "metadata": {
  "kernelspec": {
   "display_name": "Python 3 (ipykernel)",
   "language": "python",
   "name": "python3"
  },
  "language_info": {
   "codemirror_mode": {
    "name": "ipython",
    "version": 3
   },
   "file_extension": ".py",
   "mimetype": "text/x-python",
   "name": "python",
   "nbconvert_exporter": "python",
   "pygments_lexer": "ipython3",
   "version": "3.8.10"
  }
 },
 "nbformat": 4,
 "nbformat_minor": 5
}
